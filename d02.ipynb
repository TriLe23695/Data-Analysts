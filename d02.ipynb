{
 "cells": [
  {
   "cell_type": "code",
   "execution_count": 1,
   "metadata": {},
   "outputs": [],
   "source": [
    "import pandas as pd\n",
    "import seaborn as sns"
   ]
  },
  {
   "cell_type": "code",
   "execution_count": 2,
   "metadata": {},
   "outputs": [
    {
     "data": {
      "text/plain": [
       "'\\nb1: xử lý cơ bản\\n    1. xác định số lượng biến số tham gia\\n    2. thu thập dữ liệu\\n    3. Tổng quan dữ liệu\\n    4. xứ lý cơ bản\\n    - loại bỏ dòng trống\\n    - loại bỏ dòng trùng\\n    - khảo sát dữ liệu thiếu và điền thiếu\\n    5. Kiểm tra dữ liệu\\n'"
      ]
     },
     "execution_count": 2,
     "metadata": {},
     "output_type": "execute_result"
    }
   ],
   "source": [
    "\"\"\"\n",
    "Hãy phân tích tác động của điểm toán với điểm DH1, DH2, DH3 dựa trên GT, KV, KT, DT, biết rằng mặc định DT là Kinh\n",
    "\"\"\"\n",
    "\n",
    "\"\"\"\n",
    "b1: xử lý cơ bản\n",
    "    1. xác định số lượng biến số tham gia\n",
    "    2. thu thập dữ liệu\n",
    "    3. Tổng quan dữ liệu\n",
    "    4. xứ lý cơ bản\n",
    "    - loại bỏ dòng trống\n",
    "    - loại bỏ dòng trùng\n",
    "    - khảo sát dữ liệu thiếu và điền thiếu\n",
    "    5. Kiểm tra dữ liệu\n",
    "\"\"\""
   ]
  },
  {
   "cell_type": "code",
   "execution_count": 3,
   "metadata": {},
   "outputs": [
    {
     "data": {
      "text/html": [
       "<div>\n",
       "<style scoped>\n",
       "    .dataframe tbody tr th:only-of-type {\n",
       "        vertical-align: middle;\n",
       "    }\n",
       "\n",
       "    .dataframe tbody tr th {\n",
       "        vertical-align: top;\n",
       "    }\n",
       "\n",
       "    .dataframe thead th {\n",
       "        text-align: right;\n",
       "    }\n",
       "</style>\n",
       "<table border=\"1\" class=\"dataframe\">\n",
       "  <thead>\n",
       "    <tr style=\"text-align: right;\">\n",
       "      <th></th>\n",
       "      <th>T1</th>\n",
       "      <th>T2</th>\n",
       "      <th>T3</th>\n",
       "      <th>T4</th>\n",
       "      <th>T5</th>\n",
       "      <th>T6</th>\n",
       "      <th>DH1</th>\n",
       "      <th>DH2</th>\n",
       "      <th>DH3</th>\n",
       "      <th>GT</th>\n",
       "      <th>KV</th>\n",
       "      <th>KT</th>\n",
       "      <th>DT</th>\n",
       "    </tr>\n",
       "  </thead>\n",
       "  <tbody>\n",
       "    <tr>\n",
       "      <th>0</th>\n",
       "      <td>7.2</td>\n",
       "      <td>8.4</td>\n",
       "      <td>7.4</td>\n",
       "      <td>7.2</td>\n",
       "      <td>7.4</td>\n",
       "      <td>6.9</td>\n",
       "      <td>3.25</td>\n",
       "      <td>3.25</td>\n",
       "      <td>4.50</td>\n",
       "      <td>F</td>\n",
       "      <td>2NT</td>\n",
       "      <td>A1</td>\n",
       "      <td>Kinh</td>\n",
       "    </tr>\n",
       "    <tr>\n",
       "      <th>1</th>\n",
       "      <td>5.4</td>\n",
       "      <td>6.3</td>\n",
       "      <td>4.3</td>\n",
       "      <td>4.9</td>\n",
       "      <td>3.0</td>\n",
       "      <td>4.0</td>\n",
       "      <td>6.00</td>\n",
       "      <td>4.00</td>\n",
       "      <td>3.50</td>\n",
       "      <td>M</td>\n",
       "      <td>1</td>\n",
       "      <td>C</td>\n",
       "      <td>Kinh</td>\n",
       "    </tr>\n",
       "    <tr>\n",
       "      <th>2</th>\n",
       "      <td>5.6</td>\n",
       "      <td>5.0</td>\n",
       "      <td>2.8</td>\n",
       "      <td>6.1</td>\n",
       "      <td>4.8</td>\n",
       "      <td>5.7</td>\n",
       "      <td>5.00</td>\n",
       "      <td>6.75</td>\n",
       "      <td>4.00</td>\n",
       "      <td>M</td>\n",
       "      <td>1</td>\n",
       "      <td>C</td>\n",
       "      <td>Kinh</td>\n",
       "    </tr>\n",
       "    <tr>\n",
       "      <th>3</th>\n",
       "      <td>6.6</td>\n",
       "      <td>5.1</td>\n",
       "      <td>5.9</td>\n",
       "      <td>4.1</td>\n",
       "      <td>6.1</td>\n",
       "      <td>7.4</td>\n",
       "      <td>4.25</td>\n",
       "      <td>4.25</td>\n",
       "      <td>5.25</td>\n",
       "      <td>M</td>\n",
       "      <td>1</td>\n",
       "      <td>D1</td>\n",
       "      <td>Kinh</td>\n",
       "    </tr>\n",
       "    <tr>\n",
       "      <th>4</th>\n",
       "      <td>6.0</td>\n",
       "      <td>5.4</td>\n",
       "      <td>7.6</td>\n",
       "      <td>4.4</td>\n",
       "      <td>6.8</td>\n",
       "      <td>8.0</td>\n",
       "      <td>4.25</td>\n",
       "      <td>4.50</td>\n",
       "      <td>5.00</td>\n",
       "      <td>M</td>\n",
       "      <td>2NT</td>\n",
       "      <td>A</td>\n",
       "      <td>Kinh</td>\n",
       "    </tr>\n",
       "    <tr>\n",
       "      <th>...</th>\n",
       "      <td>...</td>\n",
       "      <td>...</td>\n",
       "      <td>...</td>\n",
       "      <td>...</td>\n",
       "      <td>...</td>\n",
       "      <td>...</td>\n",
       "      <td>...</td>\n",
       "      <td>...</td>\n",
       "      <td>...</td>\n",
       "      <td>...</td>\n",
       "      <td>...</td>\n",
       "      <td>...</td>\n",
       "      <td>...</td>\n",
       "    </tr>\n",
       "    <tr>\n",
       "      <th>95</th>\n",
       "      <td>8.6</td>\n",
       "      <td>8.9</td>\n",
       "      <td>7.7</td>\n",
       "      <td>6.7</td>\n",
       "      <td>7.9</td>\n",
       "      <td>6.6</td>\n",
       "      <td>5.25</td>\n",
       "      <td>1.50</td>\n",
       "      <td>6.25</td>\n",
       "      <td>F</td>\n",
       "      <td>1</td>\n",
       "      <td>C</td>\n",
       "      <td>Kinh</td>\n",
       "    </tr>\n",
       "    <tr>\n",
       "      <th>96</th>\n",
       "      <td>3.7</td>\n",
       "      <td>4.1</td>\n",
       "      <td>3.1</td>\n",
       "      <td>3.4</td>\n",
       "      <td>5.5</td>\n",
       "      <td>5.7</td>\n",
       "      <td>5.25</td>\n",
       "      <td>3.75</td>\n",
       "      <td>4.75</td>\n",
       "      <td>F</td>\n",
       "      <td>1</td>\n",
       "      <td>C</td>\n",
       "      <td>Kinh</td>\n",
       "    </tr>\n",
       "    <tr>\n",
       "      <th>97</th>\n",
       "      <td>8.8</td>\n",
       "      <td>9.5</td>\n",
       "      <td>9.5</td>\n",
       "      <td>8.5</td>\n",
       "      <td>9.0</td>\n",
       "      <td>8.5</td>\n",
       "      <td>7.00</td>\n",
       "      <td>8.00</td>\n",
       "      <td>4.00</td>\n",
       "      <td>M</td>\n",
       "      <td>2NT</td>\n",
       "      <td>C</td>\n",
       "      <td>Kinh</td>\n",
       "    </tr>\n",
       "    <tr>\n",
       "      <th>98</th>\n",
       "      <td>2.7</td>\n",
       "      <td>2.8</td>\n",
       "      <td>6.2</td>\n",
       "      <td>5.2</td>\n",
       "      <td>4.1</td>\n",
       "      <td>4.3</td>\n",
       "      <td>5.00</td>\n",
       "      <td>3.50</td>\n",
       "      <td>5.50</td>\n",
       "      <td>M</td>\n",
       "      <td>1</td>\n",
       "      <td>C</td>\n",
       "      <td>Kinh</td>\n",
       "    </tr>\n",
       "    <tr>\n",
       "      <th>99</th>\n",
       "      <td>4.1</td>\n",
       "      <td>4.4</td>\n",
       "      <td>6.0</td>\n",
       "      <td>4.3</td>\n",
       "      <td>5.6</td>\n",
       "      <td>5.1</td>\n",
       "      <td>5.25</td>\n",
       "      <td>2.50</td>\n",
       "      <td>4.25</td>\n",
       "      <td>M</td>\n",
       "      <td>2NT</td>\n",
       "      <td>C</td>\n",
       "      <td>Kinh</td>\n",
       "    </tr>\n",
       "  </tbody>\n",
       "</table>\n",
       "<p>100 rows × 13 columns</p>\n",
       "</div>"
      ],
      "text/plain": [
       "     T1   T2   T3   T4   T5   T6   DH1   DH2   DH3 GT   KV  KT    DT\n",
       "0   7.2  8.4  7.4  7.2  7.4  6.9  3.25  3.25  4.50  F  2NT  A1  Kinh\n",
       "1   5.4  6.3  4.3  4.9  3.0  4.0  6.00  4.00  3.50  M    1   C  Kinh\n",
       "2   5.6  5.0  2.8  6.1  4.8  5.7  5.00  6.75  4.00  M    1   C  Kinh\n",
       "3   6.6  5.1  5.9  4.1  6.1  7.4  4.25  4.25  5.25  M    1  D1  Kinh\n",
       "4   6.0  5.4  7.6  4.4  6.8  8.0  4.25  4.50  5.00  M  2NT   A  Kinh\n",
       "..  ...  ...  ...  ...  ...  ...   ...   ...   ... ..  ...  ..   ...\n",
       "95  8.6  8.9  7.7  6.7  7.9  6.6  5.25  1.50  6.25  F    1   C  Kinh\n",
       "96  3.7  4.1  3.1  3.4  5.5  5.7  5.25  3.75  4.75  F    1   C  Kinh\n",
       "97  8.8  9.5  9.5  8.5  9.0  8.5  7.00  8.00  4.00  M  2NT   C  Kinh\n",
       "98  2.7  2.8  6.2  5.2  4.1  4.3  5.00  3.50  5.50  M    1   C  Kinh\n",
       "99  4.1  4.4  6.0  4.3  5.6  5.1  5.25  2.50  4.25  M  2NT   C  Kinh\n",
       "\n",
       "[100 rows x 13 columns]"
      ]
     },
     "execution_count": 3,
     "metadata": {},
     "output_type": "execute_result"
    }
   ],
   "source": [
    "df = pd.read_csv('dulieuxettuyendaihoc.csv', header = 0, delimiter=',', encoding='unicode_escape')\n",
    "\n",
    "df.dropna(how='all', inplace=True)\n",
    "df.drop_duplicates(inplace=True)\n",
    "df['DT'].fillna('Kinh', inplace=True)\n",
    "df = df[['T1', 'T2', 'T3', 'T4', 'T5', 'T6','DH1', 'DH2', 'DH3', 'GT', 'KV', 'KT', 'DT']]\n",
    "df"
   ]
  },
  {
   "cell_type": "code",
   "execution_count": 4,
   "metadata": {},
   "outputs": [
    {
     "data": {
      "text/plain": [
       "<AxesSubplot:xlabel='DT', ylabel='count'>"
      ]
     },
     "execution_count": 4,
     "metadata": {},
     "output_type": "execute_result"
    },
    {
     "data": {
      "image/png": "[encoded data removed]",
      "text/plain": [
       "<Figure size 432x288 with 1 Axes>"
      ]
     },
     "metadata": {
      "needs_background": "light"
     },
     "output_type": "display_data"
    }
   ],
   "source": [
    "\"\"\"Hãy trực quan số lượng sinh viên theo giới tính\"\"\"\n",
    "\n",
    "from numpy import count_nonzero\n",
    "sns.countplot(x='DT', data=df)"
   ]
  },
  {
   "cell_type": "code",
   "execution_count": 5,
   "metadata": {},
   "outputs": [
    {
     "data": {
      "text/plain": [
       "<AxesSubplot:xlabel='GT', ylabel='count'>"
      ]
     },
     "execution_count": 5,
     "metadata": {},
     "output_type": "execute_result"
    },
    {
     "data": {
      "image/png": "[encoded data removed]",
      "text/plain": [
       "<Figure size 432x288 with 1 Axes>"
      ]
     },
     "metadata": {
      "needs_background": "light"
     },
     "output_type": "display_data"
    }
   ],
   "source": [
    "\n",
    "sns.countplot(x='GT', data=df)"
   ]
  },
  {
   "cell_type": "code",
   "execution_count": 6,
   "metadata": {},
   "outputs": [
    {
     "data": {
      "text/plain": [
       "<AxesSubplot:xlabel='KV', ylabel='count'>"
      ]
     },
     "execution_count": 6,
     "metadata": {},
     "output_type": "execute_result"
    },
    {
     "data": {
      "image/png": "[encoded data removed]",
      "text/plain": [
       "<Figure size 432x288 with 1 Axes>"
      ]
     },
     "metadata": {
      "needs_background": "light"
     },
     "output_type": "display_data"
    }
   ],
   "source": [
    "\n",
    "sns.countplot(x='KV', data=df)"
   ]
  },
  {
   "cell_type": "code",
   "execution_count": 7,
   "metadata": {},
   "outputs": [
    {
     "data": {
      "text/plain": [
       "'\\nHãy so sánh số lượng học sinh dự thi theo nhóm giới tính\\n'"
      ]
     },
     "execution_count": 7,
     "metadata": {},
     "output_type": "execute_result"
    }
   ],
   "source": [
    "\"\"\"\n",
    "Hãy so sánh số lượng học sinh dự thi theo nhóm giới tính\n",
    "\"\"\""
   ]
  },
  {
   "cell_type": "code",
   "execution_count": 8,
   "metadata": {},
   "outputs": [
    {
     "data": {
      "text/plain": [
       "<AxesSubplot:xlabel='KT', ylabel='count'>"
      ]
     },
     "execution_count": 8,
     "metadata": {},
     "output_type": "execute_result"
    },
    {
     "data": {
      "image/png": "[encoded data removed]",
      "text/plain": [
       "<Figure size 432x288 with 1 Axes>"
      ]
     },
     "metadata": {
      "needs_background": "light"
     },
     "output_type": "display_data"
    }
   ],
   "source": [
    "sns.countplot(x='KT', hue='GT', data=df)"
   ]
  },
  {
   "cell_type": "code",
   "execution_count": 9,
   "metadata": {},
   "outputs": [
    {
     "data": {
      "text/plain": [
       "<AxesSubplot:xlabel='KT', ylabel='count'>"
      ]
     },
     "execution_count": 9,
     "metadata": {},
     "output_type": "execute_result"
    },
    {
     "data": {
      "image/png": "[encoded data removed]",
      "text/plain": [
       "<Figure size 432x288 with 1 Axes>"
      ]
     },
     "metadata": {
      "needs_background": "light"
     },
     "output_type": "display_data"
    }
   ],
   "source": [
    "sns.countplot(x='KT', hue='KV', data=df)"
   ]
  },
  {
   "cell_type": "code",
   "execution_count": 10,
   "metadata": {},
   "outputs": [
    {
     "data": {
      "text/plain": [
       "<AxesSubplot:xlabel='KV', ylabel='count'>"
      ]
     },
     "execution_count": 10,
     "metadata": {},
     "output_type": "execute_result"
    },
    {
     "data": {
      "image/png": "[encoded data removed]",
      "text/plain": [
       "<Figure size 432x288 with 1 Axes>"
      ]
     },
     "metadata": {
      "needs_background": "light"
     },
     "output_type": "display_data"
    }
   ],
   "source": [
    "sns.countplot(x='KV', hue='KT', data=df)"
   ]
  },
  {
   "cell_type": "code",
   "execution_count": 11,
   "metadata": {},
   "outputs": [
    {
     "data": {
      "text/plain": [
       "<AxesSubplot:xlabel='GT', ylabel='T1'>"
      ]
     },
     "execution_count": 11,
     "metadata": {},
     "output_type": "execute_result"
    },
    {
     "data": {
      "image/png": "[encoded data removed]",
      "text/plain": [
       "<Figure size 432x288 with 1 Axes>"
      ]
     },
     "metadata": {
      "needs_background": "light"
     },
     "output_type": "display_data"
    }
   ],
   "source": [
    "\"\"\"\n",
    "Hãy so sánh điểm toán học kì 1 năm lớp 10 của nhóm giới tính\n",
    "\"\"\"\n",
    "sns.barplot(x=\"GT\", y='T1', data=df, ci=None)"
   ]
  },
  {
   "cell_type": "code",
   "execution_count": 12,
   "metadata": {},
   "outputs": [
    {
     "data": {
      "text/plain": [
       "<AxesSubplot:xlabel='KT', ylabel='DH1'>"
      ]
     },
     "execution_count": 12,
     "metadata": {},
     "output_type": "execute_result"
    },
    {
     "data": {
      "image/png": "[encoded data removed]",
      "text/plain": [
       "<Figure size 432x288 with 1 Axes>"
      ]
     },
     "metadata": {
      "needs_background": "light"
     },
     "output_type": "display_data"
    }
   ],
   "source": [
    "\"\"\"\n",
    "Hãy so sánh điểm trung binfh DH1 trene nnhóm khối thi\n",
    "\"\"\"\n",
    "sns.barplot(x=\"KT\", y='DH1', data=df, ci=None)"
   ]
  },
  {
   "cell_type": "code",
   "execution_count": 13,
   "metadata": {},
   "outputs": [
    {
     "data": {
      "text/plain": [
       "<AxesSubplot:xlabel='GT', ylabel='DH1'>"
      ]
     },
     "execution_count": 13,
     "metadata": {},
     "output_type": "execute_result"
    },
    {
     "data": {
      "image/png": "[encoded data removed]",
      "text/plain": [
       "<Figure size 432x288 with 1 Axes>"
      ]
     },
     "metadata": {
      "needs_background": "light"
     },
     "output_type": "display_data"
    }
   ],
   "source": [
    "'''So sánh điểm trung bình DH1 theo nhóm giới tính dựa trên khối thi'''\n",
    "sns.barplot(x='GT', y='DH1', hue='KT', data=df, ci=None)\n",
    "# plt.show()"
   ]
  },
  {
   "cell_type": "code",
   "execution_count": 14,
   "metadata": {},
   "outputs": [
    {
     "data": {
      "text/plain": [
       "'\\n-----Ngày 04/6/2022------\\n'"
      ]
     },
     "execution_count": 14,
     "metadata": {},
     "output_type": "execute_result"
    }
   ],
   "source": [
    "'''\n",
    "-----Ngày 04/6/2022------\n",
    "'''"
   ]
  },
  {
   "cell_type": "code",
   "execution_count": 15,
   "metadata": {},
   "outputs": [
    {
     "data": {
      "text/html": [
       "<div>\n",
       "<style scoped>\n",
       "    .dataframe tbody tr th:only-of-type {\n",
       "        vertical-align: middle;\n",
       "    }\n",
       "\n",
       "    .dataframe tbody tr th {\n",
       "        vertical-align: top;\n",
       "    }\n",
       "\n",
       "    .dataframe thead th {\n",
       "        text-align: right;\n",
       "    }\n",
       "</style>\n",
       "<table border=\"1\" class=\"dataframe\">\n",
       "  <thead>\n",
       "    <tr style=\"text-align: right;\">\n",
       "      <th></th>\n",
       "      <th>T1</th>\n",
       "      <th>T2</th>\n",
       "      <th>T3</th>\n",
       "      <th>T4</th>\n",
       "      <th>T5</th>\n",
       "      <th>T6</th>\n",
       "      <th>DH1</th>\n",
       "      <th>DH2</th>\n",
       "      <th>DH3</th>\n",
       "      <th>GT</th>\n",
       "      <th>KV</th>\n",
       "      <th>KT</th>\n",
       "      <th>DT</th>\n",
       "      <th>LEPHI</th>\n",
       "    </tr>\n",
       "  </thead>\n",
       "  <tbody>\n",
       "    <tr>\n",
       "      <th>0</th>\n",
       "      <td>7.2</td>\n",
       "      <td>8.4</td>\n",
       "      <td>7.4</td>\n",
       "      <td>7.2</td>\n",
       "      <td>7.4</td>\n",
       "      <td>6.9</td>\n",
       "      <td>3.25</td>\n",
       "      <td>3.25</td>\n",
       "      <td>4.50</td>\n",
       "      <td>F</td>\n",
       "      <td>2NT</td>\n",
       "      <td>A1</td>\n",
       "      <td>Kinh</td>\n",
       "      <td>60000</td>\n",
       "    </tr>\n",
       "    <tr>\n",
       "      <th>1</th>\n",
       "      <td>5.4</td>\n",
       "      <td>6.3</td>\n",
       "      <td>4.3</td>\n",
       "      <td>4.9</td>\n",
       "      <td>3.0</td>\n",
       "      <td>4.0</td>\n",
       "      <td>6.00</td>\n",
       "      <td>4.00</td>\n",
       "      <td>3.50</td>\n",
       "      <td>M</td>\n",
       "      <td>1</td>\n",
       "      <td>C</td>\n",
       "      <td>Kinh</td>\n",
       "      <td>40000</td>\n",
       "    </tr>\n",
       "    <tr>\n",
       "      <th>2</th>\n",
       "      <td>5.6</td>\n",
       "      <td>5.0</td>\n",
       "      <td>2.8</td>\n",
       "      <td>6.1</td>\n",
       "      <td>4.8</td>\n",
       "      <td>5.7</td>\n",
       "      <td>5.00</td>\n",
       "      <td>6.75</td>\n",
       "      <td>4.00</td>\n",
       "      <td>M</td>\n",
       "      <td>1</td>\n",
       "      <td>C</td>\n",
       "      <td>Kinh</td>\n",
       "      <td>40000</td>\n",
       "    </tr>\n",
       "    <tr>\n",
       "      <th>3</th>\n",
       "      <td>6.6</td>\n",
       "      <td>5.1</td>\n",
       "      <td>5.9</td>\n",
       "      <td>4.1</td>\n",
       "      <td>6.1</td>\n",
       "      <td>7.4</td>\n",
       "      <td>4.25</td>\n",
       "      <td>4.25</td>\n",
       "      <td>5.25</td>\n",
       "      <td>M</td>\n",
       "      <td>1</td>\n",
       "      <td>D1</td>\n",
       "      <td>Kinh</td>\n",
       "      <td>35000</td>\n",
       "    </tr>\n",
       "    <tr>\n",
       "      <th>4</th>\n",
       "      <td>6.0</td>\n",
       "      <td>5.4</td>\n",
       "      <td>7.6</td>\n",
       "      <td>4.4</td>\n",
       "      <td>6.8</td>\n",
       "      <td>8.0</td>\n",
       "      <td>4.25</td>\n",
       "      <td>4.50</td>\n",
       "      <td>5.00</td>\n",
       "      <td>M</td>\n",
       "      <td>2NT</td>\n",
       "      <td>A</td>\n",
       "      <td>Kinh</td>\n",
       "      <td>55000</td>\n",
       "    </tr>\n",
       "    <tr>\n",
       "      <th>...</th>\n",
       "      <td>...</td>\n",
       "      <td>...</td>\n",
       "      <td>...</td>\n",
       "      <td>...</td>\n",
       "      <td>...</td>\n",
       "      <td>...</td>\n",
       "      <td>...</td>\n",
       "      <td>...</td>\n",
       "      <td>...</td>\n",
       "      <td>...</td>\n",
       "      <td>...</td>\n",
       "      <td>...</td>\n",
       "      <td>...</td>\n",
       "      <td>...</td>\n",
       "    </tr>\n",
       "    <tr>\n",
       "      <th>95</th>\n",
       "      <td>8.6</td>\n",
       "      <td>8.9</td>\n",
       "      <td>7.7</td>\n",
       "      <td>6.7</td>\n",
       "      <td>7.9</td>\n",
       "      <td>6.6</td>\n",
       "      <td>5.25</td>\n",
       "      <td>1.50</td>\n",
       "      <td>6.25</td>\n",
       "      <td>F</td>\n",
       "      <td>1</td>\n",
       "      <td>C</td>\n",
       "      <td>Kinh</td>\n",
       "      <td>40000</td>\n",
       "    </tr>\n",
       "    <tr>\n",
       "      <th>96</th>\n",
       "      <td>3.7</td>\n",
       "      <td>4.1</td>\n",
       "      <td>3.1</td>\n",
       "      <td>3.4</td>\n",
       "      <td>5.5</td>\n",
       "      <td>5.7</td>\n",
       "      <td>5.25</td>\n",
       "      <td>3.75</td>\n",
       "      <td>4.75</td>\n",
       "      <td>F</td>\n",
       "      <td>1</td>\n",
       "      <td>C</td>\n",
       "      <td>Kinh</td>\n",
       "      <td>40000</td>\n",
       "    </tr>\n",
       "    <tr>\n",
       "      <th>97</th>\n",
       "      <td>8.8</td>\n",
       "      <td>9.5</td>\n",
       "      <td>9.5</td>\n",
       "      <td>8.5</td>\n",
       "      <td>9.0</td>\n",
       "      <td>8.5</td>\n",
       "      <td>7.00</td>\n",
       "      <td>8.00</td>\n",
       "      <td>4.00</td>\n",
       "      <td>M</td>\n",
       "      <td>2NT</td>\n",
       "      <td>C</td>\n",
       "      <td>Kinh</td>\n",
       "      <td>40000</td>\n",
       "    </tr>\n",
       "    <tr>\n",
       "      <th>98</th>\n",
       "      <td>2.7</td>\n",
       "      <td>2.8</td>\n",
       "      <td>6.2</td>\n",
       "      <td>5.2</td>\n",
       "      <td>4.1</td>\n",
       "      <td>4.3</td>\n",
       "      <td>5.00</td>\n",
       "      <td>3.50</td>\n",
       "      <td>5.50</td>\n",
       "      <td>M</td>\n",
       "      <td>1</td>\n",
       "      <td>C</td>\n",
       "      <td>Kinh</td>\n",
       "      <td>40000</td>\n",
       "    </tr>\n",
       "    <tr>\n",
       "      <th>99</th>\n",
       "      <td>4.1</td>\n",
       "      <td>4.4</td>\n",
       "      <td>6.0</td>\n",
       "      <td>4.3</td>\n",
       "      <td>5.6</td>\n",
       "      <td>5.1</td>\n",
       "      <td>5.25</td>\n",
       "      <td>2.50</td>\n",
       "      <td>4.25</td>\n",
       "      <td>M</td>\n",
       "      <td>2NT</td>\n",
       "      <td>C</td>\n",
       "      <td>Kinh</td>\n",
       "      <td>40000</td>\n",
       "    </tr>\n",
       "  </tbody>\n",
       "</table>\n",
       "<p>100 rows × 14 columns</p>\n",
       "</div>"
      ],
      "text/plain": [
       "     T1   T2   T3   T4   T5   T6   DH1   DH2   DH3 GT   KV  KT    DT  LEPHI\n",
       "0   7.2  8.4  7.4  7.2  7.4  6.9  3.25  3.25  4.50  F  2NT  A1  Kinh  60000\n",
       "1   5.4  6.3  4.3  4.9  3.0  4.0  6.00  4.00  3.50  M    1   C  Kinh  40000\n",
       "2   5.6  5.0  2.8  6.1  4.8  5.7  5.00  6.75  4.00  M    1   C  Kinh  40000\n",
       "3   6.6  5.1  5.9  4.1  6.1  7.4  4.25  4.25  5.25  M    1  D1  Kinh  35000\n",
       "4   6.0  5.4  7.6  4.4  6.8  8.0  4.25  4.50  5.00  M  2NT   A  Kinh  55000\n",
       "..  ...  ...  ...  ...  ...  ...   ...   ...   ... ..  ...  ..   ...    ...\n",
       "95  8.6  8.9  7.7  6.7  7.9  6.6  5.25  1.50  6.25  F    1   C  Kinh  40000\n",
       "96  3.7  4.1  3.1  3.4  5.5  5.7  5.25  3.75  4.75  F    1   C  Kinh  40000\n",
       "97  8.8  9.5  9.5  8.5  9.0  8.5  7.00  8.00  4.00  M  2NT   C  Kinh  40000\n",
       "98  2.7  2.8  6.2  5.2  4.1  4.3  5.00  3.50  5.50  M    1   C  Kinh  40000\n",
       "99  4.1  4.4  6.0  4.3  5.6  5.1  5.25  2.50  4.25  M  2NT   C  Kinh  40000\n",
       "\n",
       "[100 rows x 14 columns]"
      ]
     },
     "execution_count": 15,
     "metadata": {},
     "output_type": "execute_result"
    }
   ],
   "source": [
    "# Ngày 04/06/2022\n",
    "# Kỹ thuật feature engineering\n",
    "# -> đây là kỹ thuật tạo thêm hoặc biến đổi số liệu sẵn có thành các biến số mới phù hợp nghiệp vụ phân tích\n",
    "\n",
    "# Ví dụ lệ phí đăng ký thi\n",
    "# A1: 60000\n",
    "# C: 40000\n",
    "# D1: 35000\n",
    "# A: 55000\n",
    "# B: 80000\n",
    "# Hãy tạo ra cột LEPHI thoả mãn yêu cầu trên\n",
    "\n",
    "dict_map = {\n",
    "    'A1': 60000, 'C': 40000, 'D1': 35000, 'A': 55000, 'B': 80000\n",
    "}\n",
    "df['LEPHI'] = df['KT'].map(dict_map)\n",
    "df"
   ]
  },
  {
   "cell_type": "code",
   "execution_count": 16,
   "metadata": {},
   "outputs": [
    {
     "data": {
      "image/png": "[encoded data removed]",
      "text/plain": [
       "<Figure size 432x288 with 1 Axes>"
      ]
     },
     "metadata": {},
     "output_type": "display_data"
    }
   ],
   "source": [
    "# Biểu đồ Pie\n",
    "import matplotlib.pyplot as plt\n",
    "# Mục đích: Trực quan hoá dữ liệu theo nhóm tỉ lệ phần trăm\n",
    "\n",
    "gb = df.groupby(['KT'])['KT'].agg(['count'])\n",
    "labels = gb.index\n",
    "data = list(gb['count'])\n",
    "\n",
    "colors = sns.color_palette('pastel') #tạo bảng màu\n",
    "plt.pie(data, labels=labels, colors=colors, autopct='%1.1f%%', shadow=True)\n",
    "plt.show()\n",
    "\n",
    "#Pie theo khu vực\n"
   ]
  },
  {
   "cell_type": "code",
   "execution_count": 17,
   "metadata": {},
   "outputs": [
    {
     "data": {
      "image/png": "[encoded data removed]",
      "text/plain": [
       "<Figure size 432x288 with 1 Axes>"
      ]
     },
     "metadata": {},
     "output_type": "display_data"
    }
   ],
   "source": [
    "gb = df.groupby(['KV'])['KV'].agg(['count'])\n",
    "labels = gb.index\n",
    "data = list(gb['count'])\n",
    "\n",
    "colors = sns.color_palette('pastel') #tạo bảng màu\n",
    "plt.pie(data, labels=labels, colors=colors, autopct='%1.1f%%', shadow=True)\n",
    "plt.show()"
   ]
  },
  {
   "cell_type": "code",
   "execution_count": 18,
   "metadata": {},
   "outputs": [
    {
     "data": {
      "image/png": "[encoded data removed]",
      "text/plain": [
       "<Figure size 432x288 with 1 Axes>"
      ]
     },
     "metadata": {},
     "output_type": "display_data"
    }
   ],
   "source": [
    "#biến định tính thì chỉ có hàm count để sử dụng tổng hợp\n",
    "#biến định lượng thì có nhiều hàm để sử dụng như sum, min, max, avg,...\n",
    "\n",
    "# Trực quan tỉ lệ phần trăm chi phí dự thi trên từng khối thi\n",
    "gb = df.groupby(['KT'])['LEPHI'].agg(['sum'])\n",
    "labels = gb.index\n",
    "# print(labels)\n",
    "data = list(gb['sum'])\n",
    "\n",
    "colors = sns.color_palette('pastel') #tạo bảng màu\n",
    "plt.pie(data, labels=labels, colors=colors, autopct='%1.1f%%', shadow=True)\n",
    "plt.show()\n"
   ]
  },
  {
   "cell_type": "code",
   "execution_count": 19,
   "metadata": {},
   "outputs": [],
   "source": [
    "# Khi trực quan dữ liệu ta cần lưu ý đến loại biến đang tham gia vào trực quan. Thông thường việc lựa chọn biểu đồ sẽ căn cứ dựa trên ý nghĩa nghiệp vụ và sự phối hợp giữa csac loiaj biến như:\n",
    "# - ĐỊnh tính kết hợp định đính tính\n",
    "# - Định tính kết hợp định lượng\n",
    "# - Định lượng kết hợp định lượng"
   ]
  },
  {
   "cell_type": "code",
   "execution_count": 20,
   "metadata": {},
   "outputs": [
    {
     "data": {
      "image/png": "[encoded data removed]",
      "text/plain": [
       "<Figure size 432x288 with 1 Axes>"
      ]
     },
     "metadata": {
      "needs_background": "light"
     },
     "output_type": "display_data"
    }
   ],
   "source": [
    "# Biểu đồ line \n",
    "# Mục đích: Thường dùng cho trực quan dữ liệu theo thời gian\n",
    "\n",
    "# Trực quan dữ liệu chi phí dự thi dựa theo khối thi bằng biểu đồ line\n",
    "\n",
    "sns.lineplot(x='KT', y='LEPHI', data=df, estimator=sum)\n",
    "plt.show()\n"
   ]
  },
  {
   "cell_type": "code",
   "execution_count": 21,
   "metadata": {},
   "outputs": [
    {
     "data": {
      "image/png": "[encoded data removed]",
      "text/plain": [
       "<Figure size 432x288 with 1 Axes>"
      ]
     },
     "metadata": {
      "needs_background": "light"
     },
     "output_type": "display_data"
    }
   ],
   "source": [
    "# Trực quan chi phí dự thi theo khối thi theo từng nhóm giới tính bằng biểu đồ line\n",
    "sns.lineplot(x='KT', y='LEPHI', hue='GT', data=df, estimator=sum)\n",
    "plt.show()\n"
   ]
  },
  {
   "cell_type": "code",
   "execution_count": 22,
   "metadata": {},
   "outputs": [
    {
     "data": {
      "text/plain": [
       "count    100.000000\n",
       "mean       5.946000\n",
       "std        1.608338\n",
       "min        2.400000\n",
       "25%        5.000000\n",
       "50%        5.850000\n",
       "75%        7.200000\n",
       "max        9.300000\n",
       "Name: T1, dtype: float64"
      ]
     },
     "execution_count": 22,
     "metadata": {},
     "output_type": "execute_result"
    }
   ],
   "source": [
    "\n",
    "# Phân tích định lượng\n",
    "# Phân tích định lượng lấy trọng tâm là các biến định lượng\n",
    "\n",
    "# bước 1. Mô tả dữ liệu biến định lượng T1\n",
    "\n",
    "df['T1'].describe()"
   ]
  },
  {
   "cell_type": "code",
   "execution_count": 23,
   "metadata": {},
   "outputs": [],
   "source": [
    "# std càng cao thì dữ liệu biến động càng cao\n",
    "# std thấp thì mean mới có nghĩa thống kê\n",
    "# thống kê trên 100 sinh viên\n",
    "# điểm trung bình là 5.9\n",
    "# độ biến động dữ liệu là 1.6\n",
    "# điểm thấp nhất là 2.4\n",
    "# có 25% sinh viên có điểm nhỏ hơn 5\n",
    "# 50% sinh viên có điểm nhỏ hơn 5.8\n",
    "# ..."
   ]
  },
  {
   "cell_type": "code",
   "execution_count": 24,
   "metadata": {},
   "outputs": [
    {
     "data": {
      "text/html": [
       "<div>\n",
       "<style scoped>\n",
       "    .dataframe tbody tr th:only-of-type {\n",
       "        vertical-align: middle;\n",
       "    }\n",
       "\n",
       "    .dataframe tbody tr th {\n",
       "        vertical-align: top;\n",
       "    }\n",
       "\n",
       "    .dataframe thead th {\n",
       "        text-align: right;\n",
       "    }\n",
       "</style>\n",
       "<table border=\"1\" class=\"dataframe\">\n",
       "  <thead>\n",
       "    <tr style=\"text-align: right;\">\n",
       "      <th></th>\n",
       "      <th>T1</th>\n",
       "      <th>T2</th>\n",
       "      <th>T3</th>\n",
       "      <th>T4</th>\n",
       "      <th>T5</th>\n",
       "      <th>T6</th>\n",
       "      <th>DH1</th>\n",
       "      <th>DH2</th>\n",
       "      <th>DH3</th>\n",
       "    </tr>\n",
       "  </thead>\n",
       "  <tbody>\n",
       "    <tr>\n",
       "      <th>count</th>\n",
       "      <td>100.000000</td>\n",
       "      <td>100.000000</td>\n",
       "      <td>100.000000</td>\n",
       "      <td>100.000000</td>\n",
       "      <td>100.000000</td>\n",
       "      <td>100.0000</td>\n",
       "      <td>100.000000</td>\n",
       "      <td>100.000000</td>\n",
       "      <td>100.000000</td>\n",
       "    </tr>\n",
       "    <tr>\n",
       "      <th>mean</th>\n",
       "      <td>5.946000</td>\n",
       "      <td>6.374000</td>\n",
       "      <td>6.383000</td>\n",
       "      <td>6.291000</td>\n",
       "      <td>6.717000</td>\n",
       "      <td>6.9370</td>\n",
       "      <td>3.740000</td>\n",
       "      <td>4.255000</td>\n",
       "      <td>4.875000</td>\n",
       "    </tr>\n",
       "    <tr>\n",
       "      <th>std</th>\n",
       "      <td>1.608338</td>\n",
       "      <td>1.561443</td>\n",
       "      <td>1.574484</td>\n",
       "      <td>1.469563</td>\n",
       "      <td>1.478059</td>\n",
       "      <td>1.3632</td>\n",
       "      <td>1.424408</td>\n",
       "      <td>1.060053</td>\n",
       "      <td>1.041136</td>\n",
       "    </tr>\n",
       "    <tr>\n",
       "      <th>min</th>\n",
       "      <td>2.400000</td>\n",
       "      <td>2.800000</td>\n",
       "      <td>2.300000</td>\n",
       "      <td>2.900000</td>\n",
       "      <td>3.000000</td>\n",
       "      <td>3.7000</td>\n",
       "      <td>1.000000</td>\n",
       "      <td>1.500000</td>\n",
       "      <td>2.750000</td>\n",
       "    </tr>\n",
       "    <tr>\n",
       "      <th>25%</th>\n",
       "      <td>5.000000</td>\n",
       "      <td>5.300000</td>\n",
       "      <td>5.175000</td>\n",
       "      <td>5.300000</td>\n",
       "      <td>5.800000</td>\n",
       "      <td>6.0000</td>\n",
       "      <td>2.500000</td>\n",
       "      <td>3.500000</td>\n",
       "      <td>4.250000</td>\n",
       "    </tr>\n",
       "    <tr>\n",
       "      <th>50%</th>\n",
       "      <td>5.850000</td>\n",
       "      <td>6.250000</td>\n",
       "      <td>6.650000</td>\n",
       "      <td>6.350000</td>\n",
       "      <td>6.800000</td>\n",
       "      <td>7.1000</td>\n",
       "      <td>3.625000</td>\n",
       "      <td>4.125000</td>\n",
       "      <td>4.750000</td>\n",
       "    </tr>\n",
       "    <tr>\n",
       "      <th>75%</th>\n",
       "      <td>7.200000</td>\n",
       "      <td>7.525000</td>\n",
       "      <td>7.500000</td>\n",
       "      <td>7.600000</td>\n",
       "      <td>7.800000</td>\n",
       "      <td>8.0000</td>\n",
       "      <td>4.750000</td>\n",
       "      <td>4.750000</td>\n",
       "      <td>5.500000</td>\n",
       "    </tr>\n",
       "    <tr>\n",
       "      <th>max</th>\n",
       "      <td>9.300000</td>\n",
       "      <td>9.600000</td>\n",
       "      <td>9.500000</td>\n",
       "      <td>9.400000</td>\n",
       "      <td>9.500000</td>\n",
       "      <td>9.5000</td>\n",
       "      <td>7.000000</td>\n",
       "      <td>8.000000</td>\n",
       "      <td>8.000000</td>\n",
       "    </tr>\n",
       "  </tbody>\n",
       "</table>\n",
       "</div>"
      ],
      "text/plain": [
       "               T1          T2          T3          T4          T5        T6  \\\n",
       "count  100.000000  100.000000  100.000000  100.000000  100.000000  100.0000   \n",
       "mean     5.946000    6.374000    6.383000    6.291000    6.717000    6.9370   \n",
       "std      1.608338    1.561443    1.574484    1.469563    1.478059    1.3632   \n",
       "min      2.400000    2.800000    2.300000    2.900000    3.000000    3.7000   \n",
       "25%      5.000000    5.300000    5.175000    5.300000    5.800000    6.0000   \n",
       "50%      5.850000    6.250000    6.650000    6.350000    6.800000    7.1000   \n",
       "75%      7.200000    7.525000    7.500000    7.600000    7.800000    8.0000   \n",
       "max      9.300000    9.600000    9.500000    9.400000    9.500000    9.5000   \n",
       "\n",
       "              DH1         DH2         DH3  \n",
       "count  100.000000  100.000000  100.000000  \n",
       "mean     3.740000    4.255000    4.875000  \n",
       "std      1.424408    1.060053    1.041136  \n",
       "min      1.000000    1.500000    2.750000  \n",
       "25%      2.500000    3.500000    4.250000  \n",
       "50%      3.625000    4.125000    4.750000  \n",
       "75%      4.750000    4.750000    5.500000  \n",
       "max      7.000000    8.000000    8.000000  "
      ]
     },
     "execution_count": 24,
     "metadata": {},
     "output_type": "execute_result"
    }
   ],
   "source": [
    "df[['T1','T2','T3','T4','T5','T6','DH1','DH2','DH3']].describe()"
   ]
  },
  {
   "cell_type": "code",
   "execution_count": 25,
   "metadata": {},
   "outputs": [
    {
     "data": {
      "text/html": [
       "<div>\n",
       "<style scoped>\n",
       "    .dataframe tbody tr th:only-of-type {\n",
       "        vertical-align: middle;\n",
       "    }\n",
       "\n",
       "    .dataframe tbody tr th {\n",
       "        vertical-align: top;\n",
       "    }\n",
       "\n",
       "    .dataframe thead th {\n",
       "        text-align: right;\n",
       "    }\n",
       "</style>\n",
       "<table border=\"1\" class=\"dataframe\">\n",
       "  <thead>\n",
       "    <tr style=\"text-align: right;\">\n",
       "      <th></th>\n",
       "      <th>count</th>\n",
       "      <th>mean</th>\n",
       "      <th>std</th>\n",
       "      <th>min</th>\n",
       "      <th>25%</th>\n",
       "      <th>50%</th>\n",
       "      <th>75%</th>\n",
       "      <th>max</th>\n",
       "    </tr>\n",
       "    <tr>\n",
       "      <th>GT</th>\n",
       "      <th></th>\n",
       "      <th></th>\n",
       "      <th></th>\n",
       "      <th></th>\n",
       "      <th></th>\n",
       "      <th></th>\n",
       "      <th></th>\n",
       "      <th></th>\n",
       "    </tr>\n",
       "  </thead>\n",
       "  <tbody>\n",
       "    <tr>\n",
       "      <th>F</th>\n",
       "      <td>48.0</td>\n",
       "      <td>6.187500</td>\n",
       "      <td>1.612006</td>\n",
       "      <td>2.4</td>\n",
       "      <td>5.175</td>\n",
       "      <td>6.2</td>\n",
       "      <td>7.300</td>\n",
       "      <td>8.8</td>\n",
       "    </tr>\n",
       "    <tr>\n",
       "      <th>M</th>\n",
       "      <td>52.0</td>\n",
       "      <td>5.723077</td>\n",
       "      <td>1.587774</td>\n",
       "      <td>2.5</td>\n",
       "      <td>4.850</td>\n",
       "      <td>5.6</td>\n",
       "      <td>6.525</td>\n",
       "      <td>9.3</td>\n",
       "    </tr>\n",
       "  </tbody>\n",
       "</table>\n",
       "</div>"
      ],
      "text/plain": [
       "    count      mean       std  min    25%  50%    75%  max\n",
       "GT                                                        \n",
       "F    48.0  6.187500  1.612006  2.4  5.175  6.2  7.300  8.8\n",
       "M    52.0  5.723077  1.587774  2.5  4.850  5.6  6.525  9.3"
      ]
     },
     "execution_count": 25,
     "metadata": {},
     "output_type": "execute_result"
    }
   ],
   "source": [
    "df.groupby('GT')['T1'].describe()"
   ]
  },
  {
   "cell_type": "code",
   "execution_count": 26,
   "metadata": {},
   "outputs": [
    {
     "data": {
      "image/png": "[encoded data removed]",
      "text/plain": [
       "<Figure size 432x288 with 1 Axes>"
      ]
     },
     "metadata": {
      "needs_background": "light"
     },
     "output_type": "display_data"
    }
   ],
   "source": [
    "# Histogram cho biết xác xuất xảy ra của biến cố\n",
    "\n",
    "df['T1'].hist()\n",
    "plt.show()"
   ]
  },
  {
   "cell_type": "code",
   "execution_count": 27,
   "metadata": {},
   "outputs": [
    {
     "data": {
      "image/png": "[encoded data removed]",
      "text/plain": [
       "<Figure size 360x360 with 1 Axes>"
      ]
     },
     "metadata": {
      "needs_background": "light"
     },
     "output_type": "display_data"
    }
   ],
   "source": [
    "sns.displot(df, x='T1', kind='kde')\n",
    "plt.show()"
   ]
  },
  {
   "cell_type": "code",
   "execution_count": 28,
   "metadata": {},
   "outputs": [
    {
     "data": {
      "image/png": "[encoded data removed]",
      "text/plain": [
       "<Figure size 404.625x360 with 1 Axes>"
      ]
     },
     "metadata": {
      "needs_background": "light"
     },
     "output_type": "display_data"
    }
   ],
   "source": [
    "sns.displot(df, x='T1',hue='GT', kind='kde')\n",
    "plt.show()"
   ]
  },
  {
   "cell_type": "code",
   "execution_count": 29,
   "metadata": {},
   "outputs": [
    {
     "data": {
      "text/plain": [
       "'\\n------ Ngày 07/06/2022-------\\n'"
      ]
     },
     "execution_count": 29,
     "metadata": {},
     "output_type": "execute_result"
    }
   ],
   "source": [
    "'''\n",
    "------ Ngày 07/06/2022-------\n",
    "'''"
   ]
  },
  {
   "cell_type": "code",
   "execution_count": 30,
   "metadata": {},
   "outputs": [
    {
     "data": {
      "text/plain": [
       "<AxesSubplot:>"
      ]
     },
     "execution_count": 30,
     "metadata": {},
     "output_type": "execute_result"
    },
    {
     "data": {
      "image/png": "[encoded data removed]",
      "text/plain": [
       "<Figure size 432x288 with 1 Axes>"
      ]
     },
     "metadata": {
      "needs_background": "light"
     },
     "output_type": "display_data"
    }
   ],
   "source": [
    "'''\n",
    "Đây là biểu đồ quan trọng trong việc phân tích dữ liệu định lượng\n",
    "Biểu đồ này cung cấp các thông tin quan trọng như:\n",
    "    1. Q1: Tứ phân vị 25%\n",
    "    2. Q2: Tứ phân vị 50% (median)\n",
    "    3. Q3: Tứ phân vị 75%\n",
    "    4. Khoảng IQR = Q3-Q1  (50% dữ liệu bình thường ko hư hỏng sẽ nằm ở đây)\n",
    "    5. Lower bound = Q1-1.5*IQR (những dữ liệu bé hơn cận này thì sẽ là ngoại biên)\n",
    "    6. Upper bound = Q3+1.5*IQR (những dữ liệu lớn hơn cận này thì sẽ là ngoại biên)\n",
    "    7. Các ngoại biên (outlier) cần xử lý trong dữ liệu\n",
    "\n",
    "    Ngoại biên là những giá trị rất khác biệt so với đa số các giá trị khác. Ngoại biên sẽ ảnh hưởng rất nhiều khi tính giá trị trung bình.\n",
    "    Tuy nhiên các phương pháp phân tích dữ liệu đều xoay quanh giá trị trung bình được xem như là giá trị kỳ vọng. \n",
    "    Do đó khi dữ liệu có ngoại biên chúng ta cần tìm phương pháp xử lý.\n",
    "    Có 1 số cách để xử lý\n",
    "        1. Có  thể loại bỏ nếu giá trị ngoại biên không tác động mạnh đến vấn đề nghiên cứu\n",
    "        2. Tìm phương pháp thay thế giá trị ngoại biên bằng 1 giá trị nào đó, bởi vì ngoại biên không phải là giá trị sai\n",
    "        3. Hoặc đề ra một phương pháp nghiên cứu khác tách bạch giữa ngoại biên và dữ liệu phân tích\n",
    "'''\n",
    "sns.boxplot(data=df['T1'])\n"
   ]
  },
  {
   "cell_type": "code",
   "execution_count": 31,
   "metadata": {},
   "outputs": [
    {
     "data": {
      "text/plain": [
       "<AxesSubplot:>"
      ]
     },
     "execution_count": 31,
     "metadata": {},
     "output_type": "execute_result"
    },
    {
     "data": {
      "image/png": "[encoded data removed]",
      "text/plain": [
       "<Figure size 432x288 with 1 Axes>"
      ]
     },
     "metadata": {
      "needs_background": "light"
     },
     "output_type": "display_data"
    }
   ],
   "source": [
    "sns.boxplot(data=df[['T1','T2','T3','T4','T5','T6','DH1','DH2','DH3']])\n",
    "# Trên dữ liệu DH2 và DH3 xuất hiện ngoại biên"
   ]
  },
  {
   "cell_type": "code",
   "execution_count": 32,
   "metadata": {},
   "outputs": [
    {
     "data": {
      "text/plain": [
       "<AxesSubplot:xlabel='GT', ylabel='T1'>"
      ]
     },
     "execution_count": 32,
     "metadata": {},
     "output_type": "execute_result"
    },
    {
     "data": {
      "image/png": "[encoded data removed]",
      "text/plain": [
       "<Figure size 432x288 with 1 Axes>"
      ]
     },
     "metadata": {
      "needs_background": "light"
     },
     "output_type": "display_data"
    }
   ],
   "source": [
    "sns.boxplot(x='GT',y='T1',data=df)"
   ]
  },
  {
   "cell_type": "code",
   "execution_count": 33,
   "metadata": {},
   "outputs": [
    {
     "data": {
      "text/plain": [
       "<AxesSubplot:xlabel='KT', ylabel='DH1'>"
      ]
     },
     "execution_count": 33,
     "metadata": {},
     "output_type": "execute_result"
    },
    {
     "data": {
      "image/png": "[encoded data removed]",
      "text/plain": [
       "<Figure size 432x288 with 1 Axes>"
      ]
     },
     "metadata": {
      "needs_background": "light"
     },
     "output_type": "display_data"
    }
   ],
   "source": [
    "sns.boxplot(x='KT',y='DH1',data=df)"
   ]
  },
  {
   "cell_type": "code",
   "execution_count": 34,
   "metadata": {},
   "outputs": [
    {
     "data": {
      "text/plain": [
       "<AxesSubplot:xlabel='KT', ylabel='DH1'>"
      ]
     },
     "execution_count": 34,
     "metadata": {},
     "output_type": "execute_result"
    },
    {
     "data": {
      "image/png": "[encoded data removed]",
      "text/plain": [
       "<Figure size 432x288 with 1 Axes>"
      ]
     },
     "metadata": {
      "needs_background": "light"
     },
     "output_type": "display_data"
    }
   ],
   "source": [
    "# Phân tích điểm dh1 trên từng khối thi dựa theo giới tính\n",
    "sns.boxplot(x='KT',y='DH1',hue='GT',data=df)"
   ]
  },
  {
   "cell_type": "code",
   "execution_count": 35,
   "metadata": {},
   "outputs": [
    {
     "data": {
      "text/plain": [
       "<AxesSubplot:xlabel='KV', ylabel='DH2'>"
      ]
     },
     "execution_count": 35,
     "metadata": {},
     "output_type": "execute_result"
    },
    {
     "data": {
      "image/png": "[encoded data removed]",
      "text/plain": [
       "<Figure size 432x288 with 1 Axes>"
      ]
     },
     "metadata": {
      "needs_background": "light"
     },
     "output_type": "display_data"
    }
   ],
   "source": [
    "# Phân tích điểm dh2, dh3 theo khu vực dựa trên giới tính\n",
    "\n",
    "sns.boxplot(x='KV',y='DH2',hue='GT',data=df)\n"
   ]
  },
  {
   "cell_type": "code",
   "execution_count": 36,
   "metadata": {},
   "outputs": [
    {
     "data": {
      "text/plain": [
       "<AxesSubplot:xlabel='KV', ylabel='DH3'>"
      ]
     },
     "execution_count": 36,
     "metadata": {},
     "output_type": "execute_result"
    },
    {
     "data": {
      "image/png": "[encoded data removed]",
      "text/plain": [
       "<Figure size 432x288 with 1 Axes>"
      ]
     },
     "metadata": {
      "needs_background": "light"
     },
     "output_type": "display_data"
    }
   ],
   "source": [
    "sns.boxplot(x='KV',y='DH3',hue='GT',data=df)"
   ]
  },
  {
   "cell_type": "code",
   "execution_count": 37,
   "metadata": {},
   "outputs": [
    {
     "data": {
      "text/plain": [
       "T1   -0.178243\n",
       "T2    0.039634\n",
       "T3   -0.473535\n",
       "T4   -0.263226\n",
       "T5   -0.478066\n",
       "T6   -0.484640\n",
       "dtype: float64"
      ]
     },
     "execution_count": 37,
     "metadata": {},
     "output_type": "execute_result"
    }
   ],
   "source": [
    "'''\n",
    "Skewness = độ xiên\n",
    "Độ lớn của skewness cho biết mức độ dữ liệu lệch nhiều hay ít so với đường cong phân phối chuẩn\n",
    "\n",
    "'''\n",
    "\n",
    "df['T1'].skew()\n",
    "df[['T1','T2','T3','T4','T5','T6']].skew()\n",
    "# KHI PHÂN TÍCH DỮ LIỆU VỚI CÁC PHƯƠNG PHÁP CÓ LIÊN QUAN PHÂN PHỐI CHUẨN\n",
    "# NẾU DỮ LIỆU QUÁ LỆCH SO VỚI PHÂN PHỐI CHUẨN THÌ TA CẦN ĐIỀU CHỈNH BẰNG CÁC HÀM TRANSFROMM CHO BỚT LỆCH (THƯỜNG THÌ KHI TRỊ TUYỆT ĐỐI VƯỢT QUÁ 1)\n",
    "# ĐẶC BIỆT LÀ PHÂN TÍCH HỒI QUY\n",
    "\n",
    "\n",
    "# Đối với các dữ liệu ko phân phối chuẩn đẹp cần phải đưa ra các Assumption để đưa về "
   ]
  },
  {
   "cell_type": "code",
   "execution_count": 38,
   "metadata": {},
   "outputs": [
    {
     "data": {
      "text/plain": [
       "<function matplotlib.pyplot.show(close=None, block=None)>"
      ]
     },
     "execution_count": 38,
     "metadata": {},
     "output_type": "execute_result"
    },
    {
     "data": {
      "image/png": "[encoded data removed]",
      "text/plain": [
       "<Figure size 417.625x360 with 1 Axes>"
      ]
     },
     "metadata": {
      "needs_background": "light"
     },
     "output_type": "display_data"
    }
   ],
   "source": [
    "sns.displot(df[['DH1','DH2','DH3']], kind='kde')\n",
    "plt.show"
   ]
  },
  {
   "cell_type": "code",
   "execution_count": 39,
   "metadata": {},
   "outputs": [
    {
     "data": {
      "text/plain": [
       "T1    -0.480104\n",
       "T2    -0.677771\n",
       "T3    -0.208899\n",
       "T4    -0.542134\n",
       "T5    -0.189668\n",
       "T6    -0.228734\n",
       "DH1   -0.517004\n",
       "DH2    1.372439\n",
       "DH3    0.442173\n",
       "dtype: float64"
      ]
     },
     "execution_count": 39,
     "metadata": {},
     "output_type": "execute_result"
    }
   ],
   "source": [
    "'''\n",
    "Kurtosis : Độ nhọn\n",
    "Trị tuyệt đối cho biết độ nhọn của phân phối \n",
    "'''\n",
    "df[['T1','T2','T3','T4','T5','T6','DH1','DH2','DH3']].kurtosis()"
   ]
  },
  {
   "cell_type": "code",
   "execution_count": 40,
   "metadata": {},
   "outputs": [
    {
     "data": {
      "text/plain": [
       "'\\nNHÌN BIỂU ĐỒ NÀY CHO BIẾT Ý NGHĨA CỦA KUTORSIS\\nGIÁ TRỊ CÀNG CAO THÌ THỂ HIỆN DỮ LIỆU TẬP TRUNG VÀO 1 KHOẢNG CAO\\nGIÁ TRỊ CÀNG THẤP THÌ THỂ HIỆN DỮ LIỆU PHÂN BỐ RÃI ĐỀU\\nBIỂU ĐÔ PHÂN PHỐI CHO BIẾT SÁC XUẤT RƠI CỦA GIÁ TRỊ NẰM Ở KHOẢNG NÀO \\n'"
      ]
     },
     "execution_count": 40,
     "metadata": {},
     "output_type": "execute_result"
    },
    {
     "data": {
      "image/png": "[encoded data removed]",
      "text/plain": [
       "<Figure size 417.625x360 with 1 Axes>"
      ]
     },
     "metadata": {
      "needs_background": "light"
     },
     "output_type": "display_data"
    }
   ],
   "source": [
    "sns.displot(df[['DH2','T5']], kind='kde')\n",
    "plt.show\n",
    "\n",
    "'''\n",
    "NHÌN BIỂU ĐỒ NÀY CHO BIẾT Ý NGHĨA CỦA KUTORSIS\n",
    "GIÁ TRỊ CÀNG CAO THÌ THỂ HIỆN DỮ LIỆU TẬP TRUNG VÀO 1 KHOẢNG CAO\n",
    "GIÁ TRỊ CÀNG THẤP THÌ THỂ HIỆN DỮ LIỆU PHÂN BỐ RÃI ĐỀU\n",
    "BIỂU ĐÔ PHÂN PHỐI CHO BIẾT SÁC XUẤT RƠI CỦA GIÁ TRỊ NẰM Ở KHOẢNG NÀO \n",
    "'''"
   ]
  },
  {
   "cell_type": "code",
   "execution_count": 41,
   "metadata": {},
   "outputs": [
    {
     "data": {
      "text/plain": [
       "'\\nĐƯỜNG MÀU ĐỎ LÀ ĐƯỜNG KIỂM ĐỊNH\\nCÁC GIÁ TRỊ PHÂN BỔ CÀNG GẦN ĐƯỜNG MÀU ĐỎ THÌ CÀNG GẦN PHÂN PHỐI CHUẨN\\n'"
      ]
     },
     "execution_count": 41,
     "metadata": {},
     "output_type": "execute_result"
    },
    {
     "data": {
      "image/png": "[encoded data removed]",
      "text/plain": [
       "<Figure size 432x288 with 1 Axes>"
      ]
     },
     "metadata": {
      "needs_background": "light"
     },
     "output_type": "display_data"
    }
   ],
   "source": [
    "'''\n",
    "KIỂM ĐỊNH PHÂN PHỐI CHUẨN\n",
    "CÓ RẤT NHIỀU CÁCH ĐỂ KIỂM TRA BIẾN ĐỊNH LƯỢNG CÓ TUÂN THEO PHÂN PHỐI CHUẨN HAY KHÔNG\n",
    "CÁC PHƯƠNG PHÁP KIỂM ĐỊNH NÀY THƯỜNG ĐƯỢC SỬ DỤNG CHO PHƯƠNG PHÁP HỒI QUY CHO DỮ LIỆU DOANH NGHIỆP\n",
    "'''\n",
    "\n",
    "from scipy import stats\n",
    "\n",
    "stats.probplot(df['T1'],plot=sns.mpl.pyplot)\n",
    "plt.show\n",
    "\n",
    "\n",
    "'''\n",
    "ĐƯỜNG MÀU ĐỎ LÀ ĐƯỜNG KIỂM ĐỊNH\n",
    "CÁC GIÁ TRỊ PHÂN BỔ CÀNG GẦN ĐƯỜNG MÀU ĐỎ THÌ CÀNG GẦN PHÂN PHỐI CHUẨN\n",
    "'''"
   ]
  },
  {
   "cell_type": "code",
   "execution_count": 42,
   "metadata": {},
   "outputs": [
    {
     "data": {
      "text/plain": [
       "<function matplotlib.pyplot.show(close=None, block=None)>"
      ]
     },
     "execution_count": 42,
     "metadata": {},
     "output_type": "execute_result"
    },
    {
     "data": {
      "image/png": "[encoded data removed]",
      "text/plain": [
       "<Figure size 432x288 with 1 Axes>"
      ]
     },
     "metadata": {
      "needs_background": "light"
     },
     "output_type": "display_data"
    }
   ],
   "source": [
    "from scipy import stats\n",
    "\n",
    "stats.probplot(df['T2'],plot=sns.mpl.pyplot)\n",
    "plt.show\n"
   ]
  },
  {
   "cell_type": "code",
   "execution_count": 43,
   "metadata": {},
   "outputs": [
    {
     "data": {
      "text/plain": [
       "<function matplotlib.pyplot.show(close=None, block=None)>"
      ]
     },
     "execution_count": 43,
     "metadata": {},
     "output_type": "execute_result"
    },
    {
     "data": {
      "image/png": "[encoded data removed]",
      "text/plain": [
       "<Figure size 432x288 with 1 Axes>"
      ]
     },
     "metadata": {
      "needs_background": "light"
     },
     "output_type": "display_data"
    }
   ],
   "source": [
    "from scipy import stats\n",
    "\n",
    "stats.probplot(df['DH3'],plot=sns.mpl.pyplot)\n",
    "plt.show"
   ]
  },
  {
   "cell_type": "code",
   "execution_count": 44,
   "metadata": {},
   "outputs": [
    {
     "data": {
      "text/html": [
       "<div>\n",
       "<style scoped>\n",
       "    .dataframe tbody tr th:only-of-type {\n",
       "        vertical-align: middle;\n",
       "    }\n",
       "\n",
       "    .dataframe tbody tr th {\n",
       "        vertical-align: top;\n",
       "    }\n",
       "\n",
       "    .dataframe thead th {\n",
       "        text-align: right;\n",
       "    }\n",
       "</style>\n",
       "<table border=\"1\" class=\"dataframe\">\n",
       "  <thead>\n",
       "    <tr style=\"text-align: right;\">\n",
       "      <th></th>\n",
       "      <th>T1</th>\n",
       "      <th>T2</th>\n",
       "    </tr>\n",
       "  </thead>\n",
       "  <tbody>\n",
       "    <tr>\n",
       "      <th>T1</th>\n",
       "      <td>1.00000</td>\n",
       "      <td>0.74575</td>\n",
       "    </tr>\n",
       "    <tr>\n",
       "      <th>T2</th>\n",
       "      <td>0.74575</td>\n",
       "      <td>1.00000</td>\n",
       "    </tr>\n",
       "  </tbody>\n",
       "</table>\n",
       "</div>"
      ],
      "text/plain": [
       "         T1       T2\n",
       "T1  1.00000  0.74575\n",
       "T2  0.74575  1.00000"
      ]
     },
     "execution_count": 44,
     "metadata": {},
     "output_type": "execute_result"
    }
   ],
   "source": [
    "'''\n",
    "Pearson Correlation : HỆ SỐ TƯƠNG QUAN TUYẾN TÍNH, ĐƯỢC SỬ DỤNG ĐỂ SO SÁNH MỨC ĐỘ PHỤ THUỘC TUYẾN TÍNH CỦA 2 \"biến định lượng\"\n",
    "Giá trị giao động từ [-1,1]\n",
    "Giá trị này rất lớn gần bằng 1 nên có tính tương quan đồng biến rất mạnh\n",
    "'''\n",
    "\n",
    "df[['T1','T2']].corr()\n",
    "\n"
   ]
  },
  {
   "cell_type": "code",
   "execution_count": 45,
   "metadata": {},
   "outputs": [
    {
     "data": {
      "text/html": [
       "<div>\n",
       "<style scoped>\n",
       "    .dataframe tbody tr th:only-of-type {\n",
       "        vertical-align: middle;\n",
       "    }\n",
       "\n",
       "    .dataframe tbody tr th {\n",
       "        vertical-align: top;\n",
       "    }\n",
       "\n",
       "    .dataframe thead th {\n",
       "        text-align: right;\n",
       "    }\n",
       "</style>\n",
       "<table border=\"1\" class=\"dataframe\">\n",
       "  <thead>\n",
       "    <tr style=\"text-align: right;\">\n",
       "      <th></th>\n",
       "      <th>T1</th>\n",
       "      <th>T2</th>\n",
       "      <th>T3</th>\n",
       "      <th>T4</th>\n",
       "      <th>T5</th>\n",
       "      <th>T6</th>\n",
       "      <th>DH1</th>\n",
       "      <th>DH2</th>\n",
       "      <th>DH3</th>\n",
       "    </tr>\n",
       "  </thead>\n",
       "  <tbody>\n",
       "    <tr>\n",
       "      <th>T1</th>\n",
       "      <td>1.000000</td>\n",
       "      <td>0.745750</td>\n",
       "      <td>0.585319</td>\n",
       "      <td>0.520067</td>\n",
       "      <td>0.592798</td>\n",
       "      <td>0.519035</td>\n",
       "      <td>0.049254</td>\n",
       "      <td>0.150497</td>\n",
       "      <td>0.093952</td>\n",
       "    </tr>\n",
       "    <tr>\n",
       "      <th>T2</th>\n",
       "      <td>0.745750</td>\n",
       "      <td>1.000000</td>\n",
       "      <td>0.641550</td>\n",
       "      <td>0.649281</td>\n",
       "      <td>0.570521</td>\n",
       "      <td>0.566116</td>\n",
       "      <td>0.120347</td>\n",
       "      <td>0.143031</td>\n",
       "      <td>0.182985</td>\n",
       "    </tr>\n",
       "    <tr>\n",
       "      <th>T3</th>\n",
       "      <td>0.585319</td>\n",
       "      <td>0.641550</td>\n",
       "      <td>1.000000</td>\n",
       "      <td>0.716712</td>\n",
       "      <td>0.657270</td>\n",
       "      <td>0.585507</td>\n",
       "      <td>0.088651</td>\n",
       "      <td>0.063597</td>\n",
       "      <td>0.130094</td>\n",
       "    </tr>\n",
       "    <tr>\n",
       "      <th>T4</th>\n",
       "      <td>0.520067</td>\n",
       "      <td>0.649281</td>\n",
       "      <td>0.716712</td>\n",
       "      <td>1.000000</td>\n",
       "      <td>0.663908</td>\n",
       "      <td>0.595900</td>\n",
       "      <td>-0.039854</td>\n",
       "      <td>0.121606</td>\n",
       "      <td>0.133606</td>\n",
       "    </tr>\n",
       "    <tr>\n",
       "      <th>T5</th>\n",
       "      <td>0.592798</td>\n",
       "      <td>0.570521</td>\n",
       "      <td>0.657270</td>\n",
       "      <td>0.663908</td>\n",
       "      <td>1.000000</td>\n",
       "      <td>0.778683</td>\n",
       "      <td>0.019512</td>\n",
       "      <td>0.184647</td>\n",
       "      <td>0.026830</td>\n",
       "    </tr>\n",
       "    <tr>\n",
       "      <th>T6</th>\n",
       "      <td>0.519035</td>\n",
       "      <td>0.566116</td>\n",
       "      <td>0.585507</td>\n",
       "      <td>0.595900</td>\n",
       "      <td>0.778683</td>\n",
       "      <td>1.000000</td>\n",
       "      <td>-0.033360</td>\n",
       "      <td>0.301490</td>\n",
       "      <td>0.045638</td>\n",
       "    </tr>\n",
       "    <tr>\n",
       "      <th>DH1</th>\n",
       "      <td>0.049254</td>\n",
       "      <td>0.120347</td>\n",
       "      <td>0.088651</td>\n",
       "      <td>-0.039854</td>\n",
       "      <td>0.019512</td>\n",
       "      <td>-0.033360</td>\n",
       "      <td>1.000000</td>\n",
       "      <td>0.035154</td>\n",
       "      <td>0.018731</td>\n",
       "    </tr>\n",
       "    <tr>\n",
       "      <th>DH2</th>\n",
       "      <td>0.150497</td>\n",
       "      <td>0.143031</td>\n",
       "      <td>0.063597</td>\n",
       "      <td>0.121606</td>\n",
       "      <td>0.184647</td>\n",
       "      <td>0.301490</td>\n",
       "      <td>0.035154</td>\n",
       "      <td>1.000000</td>\n",
       "      <td>-0.091523</td>\n",
       "    </tr>\n",
       "    <tr>\n",
       "      <th>DH3</th>\n",
       "      <td>0.093952</td>\n",
       "      <td>0.182985</td>\n",
       "      <td>0.130094</td>\n",
       "      <td>0.133606</td>\n",
       "      <td>0.026830</td>\n",
       "      <td>0.045638</td>\n",
       "      <td>0.018731</td>\n",
       "      <td>-0.091523</td>\n",
       "      <td>1.000000</td>\n",
       "    </tr>\n",
       "  </tbody>\n",
       "</table>\n",
       "</div>"
      ],
      "text/plain": [
       "           T1        T2        T3        T4        T5        T6       DH1  \\\n",
       "T1   1.000000  0.745750  0.585319  0.520067  0.592798  0.519035  0.049254   \n",
       "T2   0.745750  1.000000  0.641550  0.649281  0.570521  0.566116  0.120347   \n",
       "T3   0.585319  0.641550  1.000000  0.716712  0.657270  0.585507  0.088651   \n",
       "T4   0.520067  0.649281  0.716712  1.000000  0.663908  0.595900 -0.039854   \n",
       "T5   0.592798  0.570521  0.657270  0.663908  1.000000  0.778683  0.019512   \n",
       "T6   0.519035  0.566116  0.585507  0.595900  0.778683  1.000000 -0.033360   \n",
       "DH1  0.049254  0.120347  0.088651 -0.039854  0.019512 -0.033360  1.000000   \n",
       "DH2  0.150497  0.143031  0.063597  0.121606  0.184647  0.301490  0.035154   \n",
       "DH3  0.093952  0.182985  0.130094  0.133606  0.026830  0.045638  0.018731   \n",
       "\n",
       "          DH2       DH3  \n",
       "T1   0.150497  0.093952  \n",
       "T2   0.143031  0.182985  \n",
       "T3   0.063597  0.130094  \n",
       "T4   0.121606  0.133606  \n",
       "T5   0.184647  0.026830  \n",
       "T6   0.301490  0.045638  \n",
       "DH1  0.035154  0.018731  \n",
       "DH2  1.000000 -0.091523  \n",
       "DH3 -0.091523  1.000000  "
      ]
     },
     "execution_count": 45,
     "metadata": {},
     "output_type": "execute_result"
    }
   ],
   "source": [
    "'''\n",
    "Khi trị tuyệt đối của giá trị correlation >= 0.5 thì khi đó chúng ta mới tính đến chuyện phân tích tương quan hồi quy\n",
    "'''\n",
    "df[['T1','T2','T3','T4','T5','T6','DH1','DH2','DH3']].corr()"
   ]
  },
  {
   "cell_type": "code",
   "execution_count": 47,
   "metadata": {},
   "outputs": [
    {
     "data": {
      "image/png": "[encoded data removed]",
      "text/plain": [
       "<Figure size 432x288 with 2 Axes>"
      ]
     },
     "metadata": {
      "needs_background": "light"
     },
     "output_type": "display_data"
    }
   ],
   "source": [
    "sns.heatmap(df[['T1','T2','T3','T4','T5','T6','DH1','DH2','DH3']].corr(),cmap=\"YlGnBu\",vmax=1.0,square=False).xaxis.tick_top()\n",
    "# Thể hiện corr theo biểu đồ heatmap"
   ]
  }
 ],
 "metadata": {
  "interpreter": {
   "hash": "88279d2366fe020547cde40dd65aa0e3aa662a6ec1f3ca12d88834876c85e1a6"
  },
  "kernelspec": {
   "display_name": "Python 3.9.12 ('base')",
   "language": "python",
   "name": "python3"
  },
  "language_info": {
   "codemirror_mode": {
    "name": "ipython",
    "version": 3
   },
   "file_extension": ".py",
   "mimetype": "text/x-python",
   "name": "python",
   "nbconvert_exporter": "python",
   "pygments_lexer": "ipython3",
   "version": "3.9.12"
  },
  "orig_nbformat": 4
 },
 "nbformat": 4,
 "nbformat_minor": 2
}
